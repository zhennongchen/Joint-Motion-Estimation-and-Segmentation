{
 "cells": [
  {
   "cell_type": "code",
   "execution_count": 1,
   "metadata": {},
   "outputs": [
    {
     "name": "stderr",
     "output_type": "stream",
     "text": [
      "/usr/local/lib/python3.8/site-packages/tqdm/auto.py:21: TqdmWarning: IProgress not found. Please update jupyter and ipywidgets. See https://ipywidgets.readthedocs.io/en/stable/user_install.html\n",
      "  from .autonotebook import tqdm as notebook_tqdm\n"
     ]
    }
   ],
   "source": [
    "import torch\n",
    "import torch.nn as nn\n",
    "import torch.nn.functional as F\n",
    "\n",
    "class ConvLSTMCell(nn.Module):\n",
    "    def __init__(self, input_channels, hidden_channels, kernel_size):\n",
    "        super(ConvLSTMCell, self).__init__()\n",
    "        \n",
    "        self.input_channels = input_channels\n",
    "        self.hidden_channels = hidden_channels\n",
    "        self.kernel_size = kernel_size\n",
    "        self.padding = kernel_size // 2\n",
    "\n",
    "        self.conv = nn.Conv2d(in_channels=input_channels + hidden_channels,\n",
    "                              out_channels=4 * hidden_channels,\n",
    "                              kernel_size=kernel_size, padding=self.padding)\n",
    "\n",
    "    def forward(self, input_tensor, hidden_state):\n",
    "        h_cur, c_cur = hidden_state\n",
    "        combined = torch.cat([input_tensor, h_cur], dim=1)  # concatenate along channel dimension\n",
    "\n",
    "        combined_conv = self.conv(combined)\n",
    "        cc_i, cc_f, cc_o, cc_c = torch.split(combined_conv, self.hidden_channels, dim=1)\n",
    "        \n",
    "        i = torch.sigmoid(cc_i)\n",
    "        f = torch.sigmoid(cc_f)\n",
    "        o = torch.sigmoid(cc_o)\n",
    "        c = f * c_cur + i * torch.tanh(cc_c)\n",
    "        h = o * torch.tanh(c)\n",
    "\n",
    "        return h, c\n",
    "\n",
    "    def init_hidden(self, batch_size, image_size):\n",
    "        height, width = image_size\n",
    "        return (torch.zeros(batch_size, self.hidden_channels, height, width, device=self.conv.weight.device),\n",
    "                torch.zeros(batch_size, self.hidden_channels, height, width, device=self.conv.weight.device))\n"
   ]
  },
  {
   "cell_type": "code",
   "execution_count": 2,
   "metadata": {},
   "outputs": [],
   "source": [
    "# Define your data dimensions\n",
    "batch_size = 15  # Treated as sequence length in this case\n",
    "channels = 32\n",
    "height = width = 128\n",
    "\n",
    "# Instantiate ConvLSTM cell with matching input and hidden state channels\n",
    "conv_lstm_cell = ConvLSTMCell(input_channels=channels, hidden_channels=channels, kernel_size=3)\n",
    "\n",
    "# Dummy input with dimensions [15, 32, 128, 128]\n",
    "input_tensor = torch.randn(batch_size, channels, height, width)\n",
    "\n",
    "# Initial hidden state\n",
    "hidden_state = conv_lstm_cell.init_hidden(1, (height, width))  # Batch size is 1 for each time point\n",
    "\n",
    "# Process each time point through the ConvLSTM cell\n",
    "output_sequence = []\n",
    "for t in range(batch_size):\n",
    "    hidden_state = conv_lstm_cell(input_tensor[t].unsqueeze(0), hidden_state)  # Add batch dimension\n",
    "    output_sequence.append(hidden_state[0].squeeze(0))  # Remove batch dimension\n",
    "\n",
    "# Convert list of tensors to a tensor\n",
    "output_tensor = torch.stack(output_sequence)\n",
    "\n",
    "# output_tensor now has the shape [15, 32, 128, 128], same as the input\n"
   ]
  },
  {
   "cell_type": "code",
   "execution_count": 3,
   "metadata": {},
   "outputs": [
    {
     "data": {
      "text/plain": [
       "torch.Size([15, 32, 128, 128])"
      ]
     },
     "execution_count": 3,
     "metadata": {},
     "output_type": "execute_result"
    }
   ],
   "source": [
    "output_tensor.shape"
   ]
  },
  {
   "cell_type": "code",
   "execution_count": null,
   "metadata": {},
   "outputs": [],
   "source": []
  }
 ],
 "metadata": {
  "kernelspec": {
   "display_name": "Python 3",
   "language": "python",
   "name": "python3"
  },
  "language_info": {
   "codemirror_mode": {
    "name": "ipython",
    "version": 3
   },
   "file_extension": ".py",
   "mimetype": "text/x-python",
   "name": "python",
   "nbconvert_exporter": "python",
   "pygments_lexer": "ipython3",
   "version": "3.8.17"
  }
 },
 "nbformat": 4,
 "nbformat_minor": 2
}
